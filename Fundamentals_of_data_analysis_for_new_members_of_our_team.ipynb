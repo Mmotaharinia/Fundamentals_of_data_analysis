{
  "nbformat": 4,
  "nbformat_minor": 0,
  "metadata": {
    "colab": {
      "name": "Fundamentals of data analysis for new members of our team.ipynb",
      "provenance": [],
      "collapsed_sections": [],
      "mount_file_id": "1D28e0XyTGP_il7nEyX5MzqnFCROyYUgN",
      "authorship_tag": "ABX9TyPtRdN1wdK/DtYL0dsydHHJ",
      "include_colab_link": true
    },
    "kernelspec": {
      "name": "python3",
      "display_name": "Python 3"
    },
    "language_info": {
      "name": "python"
    }
  },
  "cells": [
    {
      "cell_type": "markdown",
      "metadata": {
        "id": "view-in-github",
        "colab_type": "text"
      },
      "source": [
        "<a href=\"https://colab.research.google.com/github/Mmotaharinia/Fundamentals_of_data_analysis_for_new_members_of_our_team/blob/main/Fundamentals_of_data_analysis_for_new_members_of_our_team.ipynb\" target=\"_parent\"><img src=\"https://colab.research.google.com/assets/colab-badge.svg\" alt=\"Open In Colab\"/></a>"
      ]
    },
    {
      "cell_type": "code",
      "execution_count": null,
      "metadata": {
        "colab": {
          "base_uri": "https://localhost:8080/",
          "height": 37
        },
        "id": "MDnUxxz5ouDD",
        "outputId": "7e5ede46-26d9-47c2-d027-af985a8b16e0"
      },
      "outputs": [
        {
          "output_type": "execute_result",
          "data": {
            "application/vnd.google.colaboratory.intrinsic+json": {
              "type": "string"
            },
            "text/plain": [
              "'%.4f'"
            ]
          },
          "metadata": {},
          "execution_count": 86
        }
      ],
      "source": [
        "#Some useful Liobraries\n",
        "from pandas.core.frame import DataFrame\n",
        "from numpy.lib.function_base import kaiser\n",
        "from IPython.display import display\n",
        "from PIL import Image\n",
        "import pandas as pd\n",
        "import numpy as np\n",
        "import math\n",
        "%precision 4"
      ]
    },
    {
      "cell_type": "code",
      "source": [
        "# Numerical Arrays/Matrices (Numpy)\n",
        "# define an array\n",
        "a=np.array([[1,2,3,4],[0,0,0,0],[55,55,78,33],[0,0,0,0]])\n",
        "A=pd.DataFrame(a,columns=['a','b','c','d'],index=['A','B','C','D'])\n",
        "print('A=',A)\n",
        "print('\\n')\n",
        "\n",
        "# array Dimension\n",
        "b=a.ndim\n",
        "print(\"b=\",b)\n",
        "print('\\n')\n",
        "\n",
        "# find the dimensions of a matrix\n",
        "c=a.shape\n",
        "print('c=',c)\n",
        "print('\\n')"
      ],
      "metadata": {
        "colab": {
          "base_uri": "https://localhost:8080/"
        },
        "id": "l6Ni5ogsLfom",
        "outputId": "5755d54b-9fe8-4064-9210-5abe11e53f29"
      },
      "execution_count": null,
      "outputs": [
        {
          "output_type": "stream",
          "name": "stdout",
          "text": [
            "A=     a   b   c   d\n",
            "A   1   2   3   4\n",
            "B   0   0   0   0\n",
            "C  55  55  78  33\n",
            "D   0   0   0   0\n",
            "\n",
            "\n",
            "b= 2\n",
            "\n",
            "\n",
            "c= (4, 4)\n",
            "\n",
            "\n"
          ]
        }
      ]
    },
    {
      "cell_type": "code",
      "source": [
        "# produce a matrix of zeros or ones or full, or eye \n",
        "e=np.zeros((2,3))\n",
        "f=np.ones((3,4))\n",
        "ff=np.full([3,3],256)\n",
        "print('ff='+'\\n',ff)\n",
        "print('e='+'\\n',e)\n",
        "print('\\n')\n",
        "print('f='+'\\n',f)\n",
        "print('\\n')\n",
        "print('eye='+'\\n',np.eye(8))\n",
        "print('\\n')\n"
      ],
      "metadata": {
        "colab": {
          "base_uri": "https://localhost:8080/"
        },
        "id": "UiL5oxtGLrF3",
        "outputId": "03ccc48a-846b-4c98-b4c8-033012ce046f"
      },
      "execution_count": null,
      "outputs": [
        {
          "output_type": "stream",
          "name": "stdout",
          "text": [
            "ff=\n",
            " [[256 256 256]\n",
            " [256 256 256]\n",
            " [256 256 256]]\n",
            "e=\n",
            " [[0. 0. 0.]\n",
            " [0. 0. 0.]]\n",
            "\n",
            "\n",
            "f=\n",
            " [[1. 1. 1. 1.]\n",
            " [1. 1. 1. 1.]\n",
            " [1. 1. 1. 1.]]\n",
            "\n",
            "\n",
            "eye=\n",
            " [[1. 0. 0. 0. 0. 0. 0. 0.]\n",
            " [0. 1. 0. 0. 0. 0. 0. 0.]\n",
            " [0. 0. 1. 0. 0. 0. 0. 0.]\n",
            " [0. 0. 0. 1. 0. 0. 0. 0.]\n",
            " [0. 0. 0. 0. 1. 0. 0. 0.]\n",
            " [0. 0. 0. 0. 0. 1. 0. 0.]\n",
            " [0. 0. 0. 0. 0. 0. 1. 0.]\n",
            " [0. 0. 0. 0. 0. 0. 0. 1.]]\n",
            "\n",
            "\n"
          ]
        }
      ]
    },
    {
      "cell_type": "code",
      "source": [
        "# Matrix elements will be multiplied etc individually\n",
        "j=np.array([[1,2,3],[1,2,3]])\n",
        "k=np.array([[10,20,30],[10,20,30]])\n",
        "l=j+k\n",
        "m=j*k\n",
        "m1=np.sqrt(j)\n",
        "print('m1=',m1)\n",
        "print('j=',j)\n",
        "print('k=',k)\n",
        "print('l=',l)\n",
        "print('m=',m)\n",
        "print('\\n')"
      ],
      "metadata": {
        "colab": {
          "base_uri": "https://localhost:8080/"
        },
        "id": "Nmxcmwg3L09i",
        "outputId": "ec673f36-1b24-4c04-8aa4-3810373dcfd4"
      },
      "execution_count": null,
      "outputs": [
        {
          "output_type": "stream",
          "name": "stdout",
          "text": [
            "m1= [[1.     1.4142 1.7321]\n",
            " [1.     1.4142 1.7321]]\n",
            "j= [[1 2 3]\n",
            " [1 2 3]]\n",
            "k= [[10 20 30]\n",
            " [10 20 30]]\n",
            "l= [[11 22 33]\n",
            " [11 22 33]]\n",
            "m= [[10 40 90]\n",
            " [10 40 90]]\n",
            "\n",
            "\n"
          ]
        }
      ]
    },
    {
      "cell_type": "code",
      "source": [
        "# Boolian condition on a matrix\n",
        "n=np.array([0,1,2,10])\n",
        "o=(n>5)\n",
        "print('o=',o)\n",
        "print('\\n')"
      ],
      "metadata": {
        "colab": {
          "base_uri": "https://localhost:8080/"
        },
        "id": "DgWaC5ZsL22D",
        "outputId": "6deb7438-53e0-4185-c467-ced81a8d6db4"
      },
      "execution_count": null,
      "outputs": [
        {
          "output_type": "stream",
          "name": "stdout",
          "text": [
            "o= [False False False  True]\n",
            "\n",
            "\n"
          ]
        }
      ]
    },
    {
      "cell_type": "code",
      "source": [
        "# Matrix multiplication\n",
        "p= np.array([1,2,3])\n",
        "q=np.array([[1],[2],[3]])\n",
        "r=p@q\n",
        "print('r=',r)\n",
        "print('\\n')"
      ],
      "metadata": {
        "colab": {
          "base_uri": "https://localhost:8080/"
        },
        "id": "ZF3gjSM8L9wu",
        "outputId": "9dd6ab38-350c-4956-a706-2440471f6973"
      },
      "execution_count": null,
      "outputs": [
        {
          "output_type": "stream",
          "name": "stdout",
          "text": [
            "r= [14]\n",
            "\n",
            "\n"
          ]
        }
      ]
    },
    {
      "cell_type": "code",
      "source": [
        "# sum, Mean, max, min, std, sqrt, of all the elements in a matrix\n",
        "s=np.array([[1,2],[10,10]]) \n",
        "print('sum, Mean, max, min')\n",
        "print(s.sum())\n",
        "print(s.mean())\n",
        "print(s.min())\n",
        "print(s.max())\n",
        "print(s.std())\n",
        "print(s.var())\n",
        "print('\\n') "
      ],
      "metadata": {
        "colab": {
          "base_uri": "https://localhost:8080/"
        },
        "id": "eb5Be0-0MGXV",
        "outputId": "eb0fa682-f043-4cc2-9051-8a98d7b9546e"
      },
      "execution_count": null,
      "outputs": [
        {
          "output_type": "stream",
          "name": "stdout",
          "text": [
            "sum, Mean, max, min\n",
            "23\n",
            "5.75\n",
            "1\n",
            "10\n",
            "4.264680527307995\n",
            "18.1875\n",
            "\n",
            "\n"
          ]
        }
      ]
    },
    {
      "cell_type": "code",
      "source": [
        "# shape & reshape a matrix \n",
        "print('reshape a matrix')\n",
        "z=np.arange(1,16,1)\n",
        "print(z,'\\n')\n",
        "print(z.reshape(3,5),'\\n')\n",
        "print(z.shape)\n",
        "print('\\n'+'\\n')"
      ],
      "metadata": {
        "colab": {
          "base_uri": "https://localhost:8080/"
        },
        "id": "y_gkM1bSMUX6",
        "outputId": "cf5ee184-cefc-4b1f-b3ce-f78ee2b93489"
      },
      "execution_count": null,
      "outputs": [
        {
          "output_type": "stream",
          "name": "stdout",
          "text": [
            "reshape a matrix\n",
            "[ 1  2  3  4  5  6  7  8  9 10 11 12 13 14 15] \n",
            "\n",
            "[[ 1  2  3  4  5]\n",
            " [ 6  7  8  9 10]\n",
            " [11 12 13 14 15]] \n",
            "\n",
            "(15,)\n",
            "\n",
            "\n",
            "\n"
          ]
        }
      ]
    },
    {
      "cell_type": "code",
      "source": [
        "#Matix slicing\n",
        "b1=np.array([[1,2,3,4],[0,0,0,0],[99,99,99,99]])\n",
        "b11=b1[1:3,0:2]\n",
        "b111=np.delete(b1,1,0)\n",
        "print('b1=',b1)\n",
        "print('\\n')\n",
        "print('b11=', b11)\n",
        "print('\\n')\n",
        "print('b111=',b111)\n",
        "print('\\n')"
      ],
      "metadata": {
        "colab": {
          "base_uri": "https://localhost:8080/"
        },
        "id": "OJA3I_wJMn4A",
        "outputId": "8a0aa470-2c30-4ae5-a21e-98c42fcca801"
      },
      "execution_count": null,
      "outputs": [
        {
          "output_type": "stream",
          "name": "stdout",
          "text": [
            "b1= [[ 1  2  3  4]\n",
            " [ 0  0  0  0]\n",
            " [99 99 99 99]]\n",
            "\n",
            "\n",
            "b11= [[ 0  0]\n",
            " [99 99]]\n",
            "\n",
            "\n",
            "b111= [[ 1  2  3  4]\n",
            " [99 99 99 99]]\n",
            "\n",
            "\n"
          ]
        }
      ]
    },
    {
      "cell_type": "code",
      "source": [
        "#matrix concatenate\n",
        "\n",
        "d1=np.array([[0,0,0],[1,1,1],[2,2,2]])\n",
        "d11=np.array([[-1,-1,-1],[-9,-9,-9],[-88,-88,-88]])\n",
        "print('d1='+'\\n',d1)\n",
        "print('d11='+'\\n',d11)\n",
        "d111=np.concatenate((d1,d11),axis=1)\n",
        "print('d111='+'\\n',d111)\n",
        "print('\\n')"
      ],
      "metadata": {
        "id": "YEv38_ISMxZ0"
      },
      "execution_count": null,
      "outputs": []
    },
    {
      "cell_type": "code",
      "source": [
        "#Matrix elements\n",
        "\n",
        "eye1=np.eye(7)\n",
        "\n",
        "for j in [0,1,2,3,4,5,6]:\n",
        "  for i in [0,1,2,3,4,5,6]:\n",
        "    if eye1[j,i]>0:\n",
        "      eye1[j,i]=1000\n",
        "    elif eye1[j,i]==0:\n",
        "      eye1[j,i]=2\n",
        "    i=i+1\n",
        "  j=j+1\n",
        "\n",
        "print('eye1=',eye1)\n",
        "print('\\n'+'\\n'+'\\n')\n",
        "\n",
        "\n",
        "# using a csv file\n",
        "#c1=pd.read_csv('Book4.csv', na_values='NaN', keep_default_na=False)\n",
        "#c1=np.genfromtxt(\"SPY-3.csv\", delimiter=\":\",skip_header=0)\n",
        "#print('c1=',c1)"
      ],
      "metadata": {
        "colab": {
          "base_uri": "https://localhost:8080/"
        },
        "id": "6bOzzWItNB94",
        "outputId": "1d537620-5f8f-40a8-cd98-c6cef4c6a130"
      },
      "execution_count": null,
      "outputs": [
        {
          "output_type": "stream",
          "name": "stdout",
          "text": [
            "eye1= [[1000.    2.    2.    2.    2.    2.    2.]\n",
            " [   2. 1000.    2.    2.    2.    2.    2.]\n",
            " [   2.    2. 1000.    2.    2.    2.    2.]\n",
            " [   2.    2.    2. 1000.    2.    2.    2.]\n",
            " [   2.    2.    2.    2. 1000.    2.    2.]\n",
            " [   2.    2.    2.    2.    2. 1000.    2.]\n",
            " [   2.    2.    2.    2.    2.    2. 1000.]]\n",
            "\n",
            "\n",
            "\n",
            "\n"
          ]
        }
      ]
    },
    {
      "cell_type": "code",
      "source": [
        "# define a 'dictionary/Lists' and query items \n",
        "# Dictionaries have only one key that could corespond to a string, number or a list of things \n",
        "print('define a dictionary','\\n')\n",
        "dic1={'Mo': [2,18,12,15],\n",
        "     'Alex':[0,2,5,7],\n",
        "     'Narges':[20,18,19,20]\n",
        "      }\n",
        "\n",
        "print('dic1=',dic1)\n",
        "print('dic1[\"Mo\"]=',dic1['Mo'])\n",
        "print('dic1[\"Mo\"][2]=',dic1['Mo'][2],'\\n')\n",
        "print('dic1DF=','\\n',pd.DataFrame(dic1),'\\n')\n",
        "print('dic1DF=','\\n',pd.DataFrame(dic1,index=['course' +str(n) for n in range(len(dic1['Mo']))]),'\\n')\n",
        "#This is not acceptable. Query works only with dictionary key. \n",
        "#print('dic1[1][2]=',dic1[1][2],'\\n')\n"
      ],
      "metadata": {
        "colab": {
          "base_uri": "https://localhost:8080/"
        },
        "id": "WzDZ46AwTu7u",
        "outputId": "d44a19b4-e9c1-4932-8efa-9304382667d7"
      },
      "execution_count": null,
      "outputs": [
        {
          "output_type": "stream",
          "name": "stdout",
          "text": [
            "define a dictionary \n",
            "\n",
            "dic1= {'Mo': [2, 18, 12, 15], 'Alex': [0, 2, 5, 7], 'Narges': [20, 18, 19, 20]}\n",
            "dic1[\"Mo\"]= [2, 18, 12, 15]\n",
            "dic1[\"Mo\"][2]= 12 \n",
            "\n",
            "dic1DF= \n",
            "    Mo  Alex  Narges\n",
            "0   2     0      20\n",
            "1  18     2      18\n",
            "2  12     5      19\n",
            "3  15     7      20 \n",
            "\n",
            "dic1DF= \n",
            "          Mo  Alex  Narges\n",
            "course0   2     0      20\n",
            "course1  18     2      18\n",
            "course2  12     5      19\n",
            "course3  15     7      20 \n",
            "\n"
          ]
        }
      ]
    },
    {
      "cell_type": "code",
      "source": [
        "dic2=[{'name':'Alex','class':'Chemistry','score':20},\n",
        "      {'name':'Jack','class':'Math','score':19},\n",
        "      {'name':'Jennifer','class':'Physics','score':14}]\n",
        "\n",
        "\n",
        "dic2pd=pd.DataFrame(dic2,index=['student'+ str(n) for n in range(len(dic2))])\n",
        "\n",
        "print('dic2pd=','\\n',dic2pd,'\\n')\n",
        "print(dic2[1]['class'],'\\n')"
      ],
      "metadata": {
        "id": "uOHqpTJmtJRE",
        "colab": {
          "base_uri": "https://localhost:8080/"
        },
        "outputId": "d0da2c98-c68a-4b81-e8bc-d31f186b6b08"
      },
      "execution_count": null,
      "outputs": [
        {
          "output_type": "stream",
          "name": "stdout",
          "text": [
            "dic2pd= \n",
            "               name      class  score\n",
            "student0      Alex  Chemistry     20\n",
            "student1      Jack       Math     19\n",
            "student2  Jennifer    Physics     14 \n",
            "\n",
            "Math \n",
            "\n"
          ]
        }
      ]
    },
    {
      "cell_type": "code",
      "source": [
        "# display an image\n",
        "print('Display an image')\n",
        "#im=Image.open('xxx.png')\n",
        "#display(im)\n",
        "#imm=np.array(im)\n",
        "#print(imm)\n",
        "print('\\n')\n",
        "\n",
        "\n",
        "#display a matrix as an image\n",
        "a1= np.random.rand(200,200)\n",
        "a2=a1*200\n",
        "a2=a2.astype(np.uint8)\n",
        "display(Image.fromarray(a2))\n",
        "print('\\n')\n",
        "print('\\n')"
      ],
      "metadata": {
        "id": "ykqAMW-b4Fli",
        "colab": {
          "base_uri": "https://localhost:8080/",
          "height": 336
        },
        "outputId": "f8885b29-f99d-4d5f-ecdc-83ee3936d097"
      },
      "execution_count": null,
      "outputs": [
        {
          "output_type": "stream",
          "name": "stdout",
          "text": [
            "Display an image\n",
            "\n",
            "\n"
          ]
        },
        {
          "output_type": "display_data",
          "data": {
            "image/png": "[encoded data removed]",
            "text/plain": [
              "<PIL.Image.Image image mode=L size=200x200 at 0x7F9987B13E50>"
            ]
          },
          "metadata": {}
        },
        {
          "output_type": "stream",
          "name": "stdout",
          "text": [
            "\n",
            "\n",
            "\n",
            "\n"
          ]
        }
      ]
    },
    {
      "cell_type": "code",
      "source": [
        "# produce an array of random numbers\n",
        "g=np.random.rand(1,3)\n",
        "ggg=np.random.randint(1,1000,1000)\n",
        "print('g=',g)\n",
        "print('\\n')\n",
        "\n",
        "# produce a sequence between two numbers\n",
        "h=np.arange(10,50,4)\n",
        "print('h=',h)\n",
        "print('\\n')\n",
        "\n",
        "# divide an interval into x small intervals\n",
        "i= np.linspace(0,1,5)\n",
        "print('i=',i)\n",
        "print('\\n')"
      ],
      "metadata": {
        "colab": {
          "base_uri": "https://localhost:8080/"
        },
        "id": "fYzZ3owWqIy7",
        "outputId": "ba2a34cb-baca-414f-b9d0-1d8259f394dc"
      },
      "execution_count": null,
      "outputs": [
        {
          "output_type": "stream",
          "name": "stdout",
          "text": [
            "g= [[0.0618 0.2534 0.2326]]\n",
            "\n",
            "\n",
            "h= [10 14 18 22 26 30 34 38 42 46]\n",
            "\n",
            "\n",
            "i= [0.   0.25 0.5  0.75 1.  ]\n",
            "\n",
            "\n"
          ]
        }
      ]
    },
    {
      "cell_type": "code",
      "source": [
        "#two dimensional Panda\n",
        "# Measure the time of code being run\n",
        "aaa=timeit.timeit(number=1000)\n",
        "print('aaa=',aaa)\n",
        "\n",
        "a=np.array([1,2,'NaN'])\n",
        "print('a=',a,'\\n')\n",
        "if (a[2]=='NaN'):\n",
        "  print('yes'+'\\n')\n"
      ],
      "metadata": {
        "id": "vlZCXjW-NXHC",
        "colab": {
          "base_uri": "https://localhost:8080/",
          "height": 232
        },
        "outputId": "01fd15e4-1dc9-486b-e98d-356df1d3762e"
      },
      "execution_count": 87,
      "outputs": [
        {
          "output_type": "error",
          "ename": "NameError",
          "evalue": "ignored",
          "traceback": [
            "\u001b[0;31m---------------------------------------------------------------------------\u001b[0m",
            "\u001b[0;31mNameError\u001b[0m                                 Traceback (most recent call last)",
            "\u001b[0;32m<ipython-input-87-ec71a8b012a8>\u001b[0m in \u001b[0;36m<module>\u001b[0;34m()\u001b[0m\n\u001b[1;32m      1\u001b[0m \u001b[0;31m#two dimensional Panda\u001b[0m\u001b[0;34m\u001b[0m\u001b[0;34m\u001b[0m\u001b[0;34m\u001b[0m\u001b[0m\n\u001b[1;32m      2\u001b[0m \u001b[0;31m# Measure the time of code being run\u001b[0m\u001b[0;34m\u001b[0m\u001b[0;34m\u001b[0m\u001b[0;34m\u001b[0m\u001b[0m\n\u001b[0;32m----> 3\u001b[0;31m \u001b[0maaa\u001b[0m\u001b[0;34m=\u001b[0m\u001b[0mtimeit\u001b[0m\u001b[0;34m.\u001b[0m\u001b[0mtimeit\u001b[0m\u001b[0;34m(\u001b[0m\u001b[0mnumber\u001b[0m\u001b[0;34m=\u001b[0m\u001b[0;36m1000\u001b[0m\u001b[0;34m)\u001b[0m\u001b[0;34m\u001b[0m\u001b[0;34m\u001b[0m\u001b[0m\n\u001b[0m\u001b[1;32m      4\u001b[0m \u001b[0mprint\u001b[0m\u001b[0;34m(\u001b[0m\u001b[0;34m'aaa='\u001b[0m\u001b[0;34m,\u001b[0m\u001b[0maaa\u001b[0m\u001b[0;34m)\u001b[0m\u001b[0;34m\u001b[0m\u001b[0;34m\u001b[0m\u001b[0m\n\u001b[1;32m      5\u001b[0m \u001b[0;34m\u001b[0m\u001b[0m\n",
            "\u001b[0;31mNameError\u001b[0m: name 'timeit' is not defined"
          ]
        }
      ]
    },
    {
      "cell_type": "code",
      "source": [
        "#pd.series is for only one dimensional arrays\n",
        "b=pd.Series(a)\n",
        "print('b=',b,'\\n')\n"
      ],
      "metadata": {
        "colab": {
          "base_uri": "https://localhost:8080/",
          "height": 341
        },
        "id": "zgWjJ11lTfgT",
        "outputId": "dd7efc23-8cee-45a3-b414-652e9a926cde"
      },
      "execution_count": 88,
      "outputs": [
        {
          "output_type": "error",
          "ename": "Exception",
          "evalue": "ignored",
          "traceback": [
            "\u001b[0;31m---------------------------------------------------------------------------\u001b[0m",
            "\u001b[0;31mException\u001b[0m                                 Traceback (most recent call last)",
            "\u001b[0;32m<ipython-input-88-c53656c049a9>\u001b[0m in \u001b[0;36m<module>\u001b[0;34m()\u001b[0m\n\u001b[1;32m      1\u001b[0m \u001b[0;31m#pd.series is for only one dimensional arrays\u001b[0m\u001b[0;34m\u001b[0m\u001b[0;34m\u001b[0m\u001b[0;34m\u001b[0m\u001b[0m\n\u001b[0;32m----> 2\u001b[0;31m \u001b[0mb\u001b[0m\u001b[0;34m=\u001b[0m\u001b[0mpd\u001b[0m\u001b[0;34m.\u001b[0m\u001b[0mSeries\u001b[0m\u001b[0;34m(\u001b[0m\u001b[0ma\u001b[0m\u001b[0;34m)\u001b[0m\u001b[0;34m\u001b[0m\u001b[0;34m\u001b[0m\u001b[0m\n\u001b[0m\u001b[1;32m      3\u001b[0m \u001b[0mprint\u001b[0m\u001b[0;34m(\u001b[0m\u001b[0;34m'b='\u001b[0m\u001b[0;34m,\u001b[0m\u001b[0mb\u001b[0m\u001b[0;34m,\u001b[0m\u001b[0;34m'\\n'\u001b[0m\u001b[0;34m)\u001b[0m\u001b[0;34m\u001b[0m\u001b[0;34m\u001b[0m\u001b[0m\n",
            "\u001b[0;32m/usr/local/lib/python3.7/dist-packages/pandas/core/series.py\u001b[0m in \u001b[0;36m__init__\u001b[0;34m(self, data, index, dtype, name, copy, fastpath)\u001b[0m\n\u001b[1;32m    325\u001b[0m                     \u001b[0mdata\u001b[0m \u001b[0;34m=\u001b[0m \u001b[0mdata\u001b[0m\u001b[0;34m.\u001b[0m\u001b[0mcopy\u001b[0m\u001b[0;34m(\u001b[0m\u001b[0;34m)\u001b[0m\u001b[0;34m\u001b[0m\u001b[0;34m\u001b[0m\u001b[0m\n\u001b[1;32m    326\u001b[0m             \u001b[0;32melse\u001b[0m\u001b[0;34m:\u001b[0m\u001b[0;34m\u001b[0m\u001b[0;34m\u001b[0m\u001b[0m\n\u001b[0;32m--> 327\u001b[0;31m                 \u001b[0mdata\u001b[0m \u001b[0;34m=\u001b[0m \u001b[0msanitize_array\u001b[0m\u001b[0;34m(\u001b[0m\u001b[0mdata\u001b[0m\u001b[0;34m,\u001b[0m \u001b[0mindex\u001b[0m\u001b[0;34m,\u001b[0m \u001b[0mdtype\u001b[0m\u001b[0;34m,\u001b[0m \u001b[0mcopy\u001b[0m\u001b[0;34m,\u001b[0m \u001b[0mraise_cast_failure\u001b[0m\u001b[0;34m=\u001b[0m\u001b[0;32mTrue\u001b[0m\u001b[0;34m)\u001b[0m\u001b[0;34m\u001b[0m\u001b[0;34m\u001b[0m\u001b[0m\n\u001b[0m\u001b[1;32m    328\u001b[0m \u001b[0;34m\u001b[0m\u001b[0m\n\u001b[1;32m    329\u001b[0m                 \u001b[0mdata\u001b[0m \u001b[0;34m=\u001b[0m \u001b[0mSingleBlockManager\u001b[0m\u001b[0;34m.\u001b[0m\u001b[0mfrom_array\u001b[0m\u001b[0;34m(\u001b[0m\u001b[0mdata\u001b[0m\u001b[0;34m,\u001b[0m \u001b[0mindex\u001b[0m\u001b[0;34m)\u001b[0m\u001b[0;34m\u001b[0m\u001b[0;34m\u001b[0m\u001b[0m\n",
            "\u001b[0;32m/usr/local/lib/python3.7/dist-packages/pandas/core/construction.py\u001b[0m in \u001b[0;36msanitize_array\u001b[0;34m(data, index, dtype, copy, raise_cast_failure)\u001b[0m\n\u001b[1;32m    494\u001b[0m     \u001b[0;32melif\u001b[0m \u001b[0msubarr\u001b[0m\u001b[0;34m.\u001b[0m\u001b[0mndim\u001b[0m \u001b[0;34m>\u001b[0m \u001b[0;36m1\u001b[0m\u001b[0;34m:\u001b[0m\u001b[0;34m\u001b[0m\u001b[0;34m\u001b[0m\u001b[0m\n\u001b[1;32m    495\u001b[0m         \u001b[0;32mif\u001b[0m \u001b[0misinstance\u001b[0m\u001b[0;34m(\u001b[0m\u001b[0mdata\u001b[0m\u001b[0;34m,\u001b[0m \u001b[0mnp\u001b[0m\u001b[0;34m.\u001b[0m\u001b[0mndarray\u001b[0m\u001b[0;34m)\u001b[0m\u001b[0;34m:\u001b[0m\u001b[0;34m\u001b[0m\u001b[0;34m\u001b[0m\u001b[0m\n\u001b[0;32m--> 496\u001b[0;31m             \u001b[0;32mraise\u001b[0m \u001b[0mException\u001b[0m\u001b[0;34m(\u001b[0m\u001b[0;34m\"Data must be 1-dimensional\"\u001b[0m\u001b[0;34m)\u001b[0m\u001b[0;34m\u001b[0m\u001b[0;34m\u001b[0m\u001b[0m\n\u001b[0m\u001b[1;32m    497\u001b[0m         \u001b[0;32melse\u001b[0m\u001b[0;34m:\u001b[0m\u001b[0;34m\u001b[0m\u001b[0;34m\u001b[0m\u001b[0m\n\u001b[1;32m    498\u001b[0m             \u001b[0msubarr\u001b[0m \u001b[0;34m=\u001b[0m \u001b[0mcom\u001b[0m\u001b[0;34m.\u001b[0m\u001b[0masarray_tuplesafe\u001b[0m\u001b[0;34m(\u001b[0m\u001b[0mdata\u001b[0m\u001b[0;34m,\u001b[0m \u001b[0mdtype\u001b[0m\u001b[0;34m=\u001b[0m\u001b[0mdtype\u001b[0m\u001b[0;34m)\u001b[0m\u001b[0;34m\u001b[0m\u001b[0;34m\u001b[0m\u001b[0m\n",
            "\u001b[0;31mException\u001b[0m: Data must be 1-dimensional"
          ]
        }
      ]
    },
    {
      "cell_type": "code",
      "source": [
        "# make a series with names as index and querying it by index/Name, check if it is NaN (maybe for bar graphs)\n",
        "c={'Alison':19,\n",
        "   'Jack':18,\n",
        "   'Mo':20}\n",
        "c1=pd.Series(c,index=['Mo', 'Alison','Baagher'])\n",
        "print('c=',c,'\\n')\n",
        "print('c1=',c1,'\\n')\n",
        "c2=c1.index\n",
        "print('c2',c2)\n",
        "print(c1['Mo'])\n",
        "\n",
        "c22=np.isnan(c1['Baagher'])\n",
        "print(c22)\n",
        "\n",
        "#How to add an item to the end of a series\n",
        "c['aaaa']=17\n",
        "print('c=',c,'\\n','\\n','\\n')\n"
      ],
      "metadata": {
        "id": "olnNIG8MTtbU"
      },
      "execution_count": null,
      "outputs": []
    },
    {
      "cell_type": "code",
      "source": [
        "# how to append two series\n",
        "d=pd.Series(['mo','ali','hossein'], index=[1,2,3])\n",
        "e=pd.Series({'abbas':20,'hasan':19,'asghar':13})\n",
        "print(d.append(e),'\\n')\n"
      ],
      "metadata": {
        "colab": {
          "base_uri": "https://localhost:8080/"
        },
        "id": "0RMQ6_6gT37a",
        "outputId": "826a035b-29fc-4694-f61e-abd2b13c5b31"
      },
      "execution_count": 89,
      "outputs": [
        {
          "output_type": "stream",
          "name": "stdout",
          "text": [
            "1              mo\n",
            "2             ali\n",
            "3         hossein\n",
            "abbas          20\n",
            "hasan          19\n",
            "asghar         13\n",
            "dtype: object \n",
            "\n"
          ]
        }
      ]
    }
  ]
}