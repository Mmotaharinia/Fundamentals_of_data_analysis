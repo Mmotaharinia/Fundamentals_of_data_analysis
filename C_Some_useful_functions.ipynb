{
  "nbformat": 4,
  "nbformat_minor": 0,
  "metadata": {
    "colab": {
      "name": "C_Some useful functions.ipynb",
      "provenance": [],
      "collapsed_sections": [],
      "authorship_tag": "ABX9TyPx5AT1lsYV/fZFf+qWCe40",
      "include_colab_link": true
    },
    "kernelspec": {
      "name": "python3",
      "display_name": "Python 3"
    },
    "language_info": {
      "name": "python"
    }
  },
  "cells": [
    {
      "cell_type": "markdown",
      "metadata": {
        "id": "view-in-github",
        "colab_type": "text"
      },
      "source": [
        "<a href=\"https://colab.research.google.com/github/Mmotaharinia/Fundamentals_of_data_analysis_for_new_members_of_our_team/blob/main/C_Some_useful_functions.ipynb\" target=\"_parent\"><img src=\"https://colab.research.google.com/assets/colab-badge.svg\" alt=\"Open In Colab\"/></a>"
      ]
    },
    {
      "cell_type": "code",
      "execution_count": 2,
      "metadata": {
        "colab": {
          "base_uri": "https://localhost:8080/",
          "height": 37
        },
        "id": "XlMyV4jJ_2mi",
        "outputId": "f2b8030a-72b4-425b-c0ed-3957d076397f"
      },
      "outputs": [
        {
          "output_type": "execute_result",
          "data": {
            "application/vnd.google.colaboratory.intrinsic+json": {
              "type": "string"
            },
            "text/plain": [
              "'hello world'"
            ]
          },
          "metadata": {},
          "execution_count": 2
        }
      ],
      "source": [
        "#string lowercase\n",
        "a='HELLO WoRLd'\n",
        "a.lower()"
      ]
    },
    {
      "cell_type": "code",
      "source": [
        "#strip a string- get rid of spaces and tabs before and after a string\n",
        "a='    Hello      World     '\n",
        "a.strip()"
      ],
      "metadata": {
        "colab": {
          "base_uri": "https://localhost:8080/",
          "height": 37
        },
        "id": "AjFJKyYZ_-gL",
        "outputId": "13843688-85de-4627-f3f3-df595ff5fb01"
      },
      "execution_count": 5,
      "outputs": [
        {
          "output_type": "execute_result",
          "data": {
            "application/vnd.google.colaboratory.intrinsic+json": {
              "type": "string"
            },
            "text/plain": [
              "'Hello      World'"
            ]
          },
          "metadata": {},
          "execution_count": 5
        }
      ]
    },
    {
      "cell_type": "code",
      "source": [
        "#Combination of two\n",
        "a='    Hello      World     '\n",
        "a.lower().strip()"
      ],
      "metadata": {
        "id": "GHUDLnNgAigx"
      },
      "execution_count": null,
      "outputs": []
    },
    {
      "cell_type": "code",
      "source": [
        "#List comprehension\n",
        "lst=[2,5,7,8,9,0]\n",
        "lst=[x-2 for x in lst]\n",
        "lst"
      ],
      "metadata": {
        "colab": {
          "base_uri": "https://localhost:8080/"
        },
        "id": "X_zlwnsjAu_s",
        "outputId": "edd51e73-1ec5-4dbc-82ce-aa890c0dd5a6"
      },
      "execution_count": 8,
      "outputs": [
        {
          "output_type": "execute_result",
          "data": {
            "text/plain": [
              "[0, 3, 5, 6, 7, -2]"
            ]
          },
          "metadata": {},
          "execution_count": 8
        }
      ]
    }
  ]
}